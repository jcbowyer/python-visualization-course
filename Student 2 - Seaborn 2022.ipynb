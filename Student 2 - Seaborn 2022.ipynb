{
 "cells": [
  {
   "cell_type": "code",
   "execution_count": 1,
   "id": "452af9b8",
   "metadata": {
    "id": "452af9b8"
   },
   "outputs": [
    {
     "ename": "ModuleNotFoundError",
     "evalue": "No module named 'pandas'",
     "output_type": "error",
     "traceback": [
      "\u001b[1;31m---------------------------------------------------------------------------\u001b[0m",
      "\u001b[1;31mModuleNotFoundError\u001b[0m                       Traceback (most recent call last)",
      "Cell \u001b[1;32mIn[1], line 2\u001b[0m\n\u001b[0;32m      1\u001b[0m \u001b[38;5;28;01mimport\u001b[39;00m \u001b[38;5;21;01mnumpy\u001b[39;00m \u001b[38;5;28;01mas\u001b[39;00m \u001b[38;5;21;01mpy\u001b[39;00m\n\u001b[1;32m----> 2\u001b[0m \u001b[38;5;28;01mimport\u001b[39;00m \u001b[38;5;21;01mpandas\u001b[39;00m \u001b[38;5;28;01mas\u001b[39;00m \u001b[38;5;21;01mpd\u001b[39;00m\n\u001b[0;32m      3\u001b[0m \u001b[38;5;28;01mimport\u001b[39;00m \u001b[38;5;21;01mmatplotlib\u001b[39;00m\u001b[38;5;21;01m.\u001b[39;00m\u001b[38;5;21;01mpyplot\u001b[39;00m \u001b[38;5;28;01mas\u001b[39;00m \u001b[38;5;21;01mplt\u001b[39;00m\n\u001b[0;32m      4\u001b[0m \u001b[38;5;28;01mimport\u001b[39;00m \u001b[38;5;21;01mseaborn\u001b[39;00m \u001b[38;5;28;01mas\u001b[39;00m \u001b[38;5;21;01msns\u001b[39;00m\n",
      "\u001b[1;31mModuleNotFoundError\u001b[0m: No module named 'pandas'"
     ]
    }
   ],
   "source": [
    "import numpy as py\n",
    "import pandas as pd\n",
    "import matplotlib.pyplot as plt\n",
    "import seaborn as sns\n",
    "\n",
    "%matplotlib inline\n",
    "# %matplotlib is a magic function in IPython.\n",
    "\n",
    "df = sns.load_dataset(\"diamonds\")\n",
    "diamonds = sns.load_dataset(\"diamonds\")\n",
    "tips = sns.load_dataset(\"tips\")\n",
    "penguins = sns.load_dataset(\"penguins\")\n",
    "flights = sns.load_dataset(\"flights\")\n",
    "\n",
    "df.shape"
   ]
  },
  {
   "cell_type": "code",
   "execution_count": null,
   "id": "45108ac5",
   "metadata": {
    "id": "45108ac5"
   },
   "outputs": [],
   "source": [
    "# sns.get_dataset_names()"
   ]
  },
  {
   "cell_type": "markdown",
   "id": "653d06e5",
   "metadata": {
    "id": "653d06e5"
   },
   "source": [
    "# Matplotlib to Pandas to Seaborn"
   ]
  },
  {
   "cell_type": "code",
   "execution_count": null,
   "id": "0222da35",
   "metadata": {
    "id": "0222da35"
   },
   "outputs": [],
   "source": [
    "# NOTICE: One y value per X value\n",
    "\n",
    "x = [\n",
    "    \"Ideal\",\n",
    "    \"Premium\",\n",
    "    \"Very Good\",\n",
    "    \"Good\",\n",
    "    \"Fair\",\n",
    "]\n",
    "y = [3457, 4584, 3981, 3928, 4358]"
   ]
  },
  {
   "cell_type": "code",
   "execution_count": null,
   "id": "6d53b99b",
   "metadata": {
    "id": "6d53b99b"
   },
   "outputs": [],
   "source": [
    "type(x)"
   ]
  },
  {
   "cell_type": "code",
   "execution_count": null,
   "id": "3a26967e",
   "metadata": {
    "id": "3a26967e"
   },
   "outputs": [],
   "source": [
    "# Matplotlib\n",
    "plt.plot(x, y)\n",
    "plt.show()"
   ]
  },
  {
   "cell_type": "code",
   "execution_count": null,
   "id": "0aec848a-cdc1-427f-adec-e556a6a9128b",
   "metadata": {
    "id": "0aec848a-cdc1-427f-adec-e556a6a9128b"
   },
   "outputs": [],
   "source": [
    "df.head()"
   ]
  },
  {
   "cell_type": "code",
   "execution_count": null,
   "id": "bec9a944-8dba-4ed9-8902-8c5b1cb5e430",
   "metadata": {
    "id": "bec9a944-8dba-4ed9-8902-8c5b1cb5e430"
   },
   "outputs": [],
   "source": []
  },
  {
   "cell_type": "code",
   "execution_count": null,
   "id": "954e9de1",
   "metadata": {
    "id": "954e9de1"
   },
   "outputs": [],
   "source": [
    "# This works but data is not aggregated\n",
    "plt.plot(df.cut, df.price)\n",
    "plt.show()"
   ]
  },
  {
   "cell_type": "code",
   "execution_count": null,
   "id": "e1b35f33-faa1-45f6-8d0b-9e643e58a94f",
   "metadata": {
    "id": "e1b35f33-faa1-45f6-8d0b-9e643e58a94f"
   },
   "outputs": [],
   "source": [
    "df.head()"
   ]
  },
  {
   "cell_type": "code",
   "execution_count": null,
   "id": "75cba472-4abf-4f72-a6be-d66a4cc13cdd",
   "metadata": {
    "id": "75cba472-4abf-4f72-a6be-d66a4cc13cdd"
   },
   "outputs": [],
   "source": [
    "import warnings\n",
    "\n",
    "warnings.simplefilter(action=\"ignore\", category=FutureWarning)"
   ]
  },
  {
   "cell_type": "code",
   "execution_count": null,
   "id": "2a5ca249",
   "metadata": {
    "id": "2a5ca249"
   },
   "outputs": [],
   "source": [
    "df2 = df.groupby(\"cut\")[\"price\"].mean().reset_index()  # creating a smaller dataset\n",
    "df2"
   ]
  },
  {
   "cell_type": "code",
   "execution_count": null,
   "id": "f6e4fd82",
   "metadata": {
    "id": "f6e4fd82"
   },
   "outputs": [],
   "source": [
    "plt.plot(df2.cut, df2.price)\n",
    "plt.show()"
   ]
  },
  {
   "cell_type": "markdown",
   "id": "528c9e7c",
   "metadata": {
    "id": "528c9e7c"
   },
   "source": [
    "### Below ...\n",
    "**pandas** ploting functions (e.g., .plot) uses matplotlib"
   ]
  },
  {
   "cell_type": "code",
   "execution_count": null,
   "id": "f8266078",
   "metadata": {
    "id": "f8266078"
   },
   "outputs": [],
   "source": [
    "# This is a pandas plot of the raw data (df)\n",
    "df.plot(x=\"cut\", y=\"price\")\n",
    "# df2.plot(x='cut', y = 'price')\n",
    "plt.show()"
   ]
  },
  {
   "cell_type": "code",
   "execution_count": null,
   "id": "9dd979aa-3dd8-441a-9218-f0d8ba8bfb45",
   "metadata": {
    "id": "9dd979aa-3dd8-441a-9218-f0d8ba8bfb45"
   },
   "outputs": [],
   "source": [
    "df2.plot(\"cut\", \"price\")\n",
    "plt.show()"
   ]
  },
  {
   "cell_type": "markdown",
   "id": "5ce9a390-e476-4c25-9d72-3913df7189d8",
   "metadata": {
    "id": "5ce9a390-e476-4c25-9d72-3913df7189d8"
   },
   "source": [
    "## Use seaborn"
   ]
  },
  {
   "cell_type": "code",
   "execution_count": null,
   "id": "542ce35b",
   "metadata": {
    "id": "542ce35b"
   },
   "outputs": [],
   "source": [
    "# This is a seaborn plot of df (not grouped) - automatic aggregation\n",
    "sns.lineplot(data=df, x=\"cut\", y=\"price\")\n",
    "plt.show()"
   ]
  },
  {
   "cell_type": "code",
   "execution_count": null,
   "id": "be951b5c",
   "metadata": {
    "id": "be951b5c"
   },
   "outputs": [],
   "source": [
    "# Using seaborn's set_theme method\n",
    "# Seaborn is updating Matplotlib's rc parameters.  rc params are the default style settings\n",
    "# rc = runtime configuration.\n",
    "# https://matplotlib.org/stable/tutorials/introductory/customizing.html\n",
    "\n",
    "sns.set_theme()"
   ]
  },
  {
   "cell_type": "code",
   "execution_count": null,
   "id": "ea0e5eef",
   "metadata": {
    "id": "ea0e5eef"
   },
   "outputs": [],
   "source": [
    "# Matplotlib\n",
    "plt.plot(x, y)\n",
    "plt.show()"
   ]
  },
  {
   "cell_type": "markdown",
   "id": "43738eb6",
   "metadata": {
    "id": "43738eb6"
   },
   "source": [
    "# Seaborn"
   ]
  },
  {
   "cell_type": "markdown",
   "id": "977fdeef",
   "metadata": {
    "id": "977fdeef"
   },
   "source": [
    "Seaborn is a library for making statistical graphics in Python. It builds on top of matplotlib and integrates closely with pandas data structures.\n",
    "\n",
    "Its plotting functions operate on dataframes and arrays containing whole datasets and internally perform the necessary semantic mapping and **statistical aggregation** to produce informative plots.\n",
    "\n",
    "The **declarative** API lets you focus on what the different elements of your plots mean, rather than on the details of how to draw them.\n",
    "\n"
   ]
  },
  {
   "cell_type": "markdown",
   "id": "ce498f67",
   "metadata": {
    "id": "ce498f67"
   },
   "source": [
    "## Figure & Axes Level Plotting Functions"
   ]
  },
  {
   "cell_type": "markdown",
   "id": "cc69502d",
   "metadata": {
    "id": "cc69502d"
   },
   "source": [
    " <img src=\"https://drive.google.com/uc?id=1Lcc0xVij3hfy2QVjUBPln5O8pXAnk8Ef\" width=600 />"
   ]
  },
  {
   "cell_type": "markdown",
   "id": "b35c6816",
   "metadata": {
    "id": "b35c6816"
   },
   "source": [
    "#### http://seaborn.pydata.org/tutorial.html"
   ]
  },
  {
   "cell_type": "markdown",
   "id": "4d73ca32",
   "metadata": {
    "id": "4d73ca32"
   },
   "source": [
    "## What's the difference between figure and axes level options?"
   ]
  },
  {
   "cell_type": "markdown",
   "id": "5f15a9d3",
   "metadata": {
    "id": "5f15a9d3"
   },
   "source": [
    "Axes-level functions make self-contained plots\n",
    "The axes-level functions are written to act like drop-in replacements for matplotlib functions. While they add axis labels and legends automatically, they don’t modify anything beyond the axes that they are drawn into. That means they can be composed into arbitrarily-complex matplotlib figures with predictable results."
   ]
  },
  {
   "cell_type": "code",
   "execution_count": null,
   "id": "6202ac3e-d225-46da-8210-a54994393528",
   "metadata": {
    "id": "6202ac3e-d225-46da-8210-a54994393528"
   },
   "outputs": [],
   "source": [
    "%matplotlib inline"
   ]
  },
  {
   "cell_type": "code",
   "execution_count": null,
   "id": "c521082d",
   "metadata": {
    "id": "c521082d"
   },
   "outputs": [],
   "source": [
    "# Figure level\n",
    "sns.displot(data=df, x=\"price\", hue=\"cut\", multiple=\"stack\", kind=\"hist\", bins=20)\n",
    "# sns.displot( data=df, x=\"price\", hue=\"cut\", multiple = 'stack')\n",
    "plt.show()"
   ]
  },
  {
   "cell_type": "code",
   "execution_count": null,
   "id": "d3c9fb64",
   "metadata": {
    "id": "d3c9fb64"
   },
   "outputs": [],
   "source": [
    "# Axes level\n",
    "sns.histplot(data=df, x=\"price\", hue=\"cut\", multiple=\"stack\", bins=20)\n",
    "plt.show()"
   ]
  },
  {
   "cell_type": "markdown",
   "id": "eef5000a",
   "metadata": {
    "id": "eef5000a"
   },
   "source": [
    "## Using sns and matplotlib together"
   ]
  },
  {
   "cell_type": "code",
   "execution_count": null,
   "id": "eb970d3b",
   "metadata": {
    "id": "eb970d3b"
   },
   "outputs": [],
   "source": [
    "plt.figure(figsize=(20, 15))\n",
    "plt.subplot(2, 2, 1)\n",
    "sns.boxplot(y=\"depth\", x=\"cut\", data=df)\n",
    "plt.subplot(2, 2, 2)\n",
    "sns.scatterplot(y=\"price\", x=\"carat\", data=df)\n",
    "plt.subplot(2, 2, 3)\n",
    "sns.boxplot(y=\"carat\", x=\"cut\", data=df)\n",
    "plt.subplot(2, 2, 4)\n",
    "sns.histplot(x=\"price\", data=df)\n",
    "plt.show()"
   ]
  },
  {
   "cell_type": "code",
   "execution_count": null,
   "id": "eeeac102",
   "metadata": {
    "id": "eeeac102"
   },
   "outputs": [],
   "source": [
    "# From Seaborn docuentation\n",
    "ax = sns.boxplot(x=\"day\", y=\"total_bill\", data=tips)\n",
    "ax = sns.swarmplot(x=\"day\", y=\"total_bill\", data=tips, color=\".25\")\n",
    "plt.show()"
   ]
  },
  {
   "cell_type": "markdown",
   "id": "b6322d8f",
   "metadata": {
    "id": "b6322d8f"
   },
   "source": [
    "## Figure level"
   ]
  },
  {
   "cell_type": "markdown",
   "id": "c9a05aac",
   "metadata": {
    "id": "c9a05aac"
   },
   "source": [
    "- Figure-level functions interface with matplotlib through a seaborn object, usually a FacetGrid\n",
    "- Each module (relational, distributions, categorical) has a single figure-level function\n"
   ]
  },
  {
   "cell_type": "code",
   "execution_count": null,
   "id": "f95721c7",
   "metadata": {
    "id": "f95721c7"
   },
   "outputs": [],
   "source": [
    "# The default for distplot is a histogram\n",
    "\n",
    "sns.displot(data=df, x=\"price\")\n",
    "plt.savefig(\"save_as_a_png.png\")\n",
    "\n",
    "# sns.displot(data=df, x=\"price\",height=8, aspect=15/8)  Use height and aspect to change the size of the figure."
   ]
  },
  {
   "cell_type": "code",
   "execution_count": null,
   "id": "b088f4fe",
   "metadata": {
    "id": "b088f4fe"
   },
   "outputs": [],
   "source": [
    "sns.displot(data=df, x=\"price\", hue=\"cut\", multiple=\"stack\")\n",
    "plt.show()"
   ]
  },
  {
   "cell_type": "markdown",
   "id": "d042cfcb",
   "metadata": {
    "id": "d042cfcb"
   },
   "source": [
    "## Change the plot type with kind = ..."
   ]
  },
  {
   "cell_type": "code",
   "execution_count": null,
   "id": "3ea74657",
   "metadata": {
    "id": "3ea74657"
   },
   "outputs": [],
   "source": [
    "sns.displot(data=df, x=\"price\", hue=\"cut\", col=\"cut\", kind=\"hist\")\n",
    "plt.show()"
   ]
  },
  {
   "cell_type": "code",
   "execution_count": null,
   "id": "3f83e421",
   "metadata": {
    "id": "3f83e421"
   },
   "outputs": [],
   "source": [
    "sns.displot(data=df, x=\"price\", hue=\"cut\", col=\"cut\", kind=\"kde\")\n",
    "plt.show()\n",
    "\n",
    "# kernel density estimation"
   ]
  },
  {
   "cell_type": "code",
   "execution_count": null,
   "id": "cc490d8c",
   "metadata": {
    "id": "cc490d8c"
   },
   "outputs": [],
   "source": [
    "sns.displot(data=df, x=\"price\", hue=\"cut\", col=\"cut\", kind=\"ecdf\")\n",
    "plt.show()\n",
    "\n",
    "# empirical cumulative distribution functions"
   ]
  },
  {
   "cell_type": "code",
   "execution_count": null,
   "id": "4e600109",
   "metadata": {
    "id": "4e600109"
   },
   "outputs": [],
   "source": [
    "sns.displot(data=df, x=\"price\", hue=\"cut\", kind=\"kde\", rug=True)\n",
    "plt.show()"
   ]
  },
  {
   "cell_type": "code",
   "execution_count": null,
   "id": "b55a0104",
   "metadata": {
    "id": "b55a0104"
   },
   "outputs": [],
   "source": [
    "# This one might take a minute to run.\n",
    "\n",
    "sns.displot(data=df, x=\"carat\", y=\"price\", kind=\"kde\")\n",
    "plt.show()"
   ]
  },
  {
   "cell_type": "markdown",
   "id": "753db660",
   "metadata": {
    "id": "753db660"
   },
   "source": [
    "## Seaborn Exercise 1 - 10 minutes"
   ]
  },
  {
   "cell_type": "markdown",
   "id": "acea2da3",
   "metadata": {
    "id": "acea2da3"
   },
   "source": [
    "- Use the relational (relplot) figure-level function to create two charts.  First a scatterplot and second a line chart.\n",
    "- Use the 'tips' data set.\n",
    "- For the scatterplot, determine if tips increasewith the bill amount.  Try to show a distinction between data points based on time of day.\n",
    "- For the line chart, show how tips change based on size of the party.\n"
   ]
  },
  {
   "cell_type": "code",
   "execution_count": null,
   "id": "77b143ab",
   "metadata": {
    "id": "77b143ab"
   },
   "outputs": [],
   "source": [
    "tips.head()"
   ]
  },
  {
   "cell_type": "code",
   "execution_count": null,
   "id": "fa8f9ec9",
   "metadata": {
    "id": "fa8f9ec9"
   },
   "outputs": [],
   "source": [
    "# Place scatterplot here"
   ]
  },
  {
   "cell_type": "code",
   "execution_count": null,
   "id": "8c3b03cd",
   "metadata": {
    "id": "8c3b03cd"
   },
   "outputs": [],
   "source": [
    "# Place line chart here"
   ]
  },
  {
   "cell_type": "markdown",
   "id": "8e1c0534",
   "metadata": {
    "id": "8e1c0534"
   },
   "source": []
  },
  {
   "cell_type": "markdown",
   "id": "58531ef7",
   "metadata": {
    "id": "58531ef7"
   },
   "source": [
    "# Facet Grids - Creating Small Multiples"
   ]
  },
  {
   "cell_type": "code",
   "execution_count": null,
   "id": "23c21ec0",
   "metadata": {
    "id": "23c21ec0"
   },
   "outputs": [],
   "source": [
    "p = sns.FacetGrid(df)  # p is the facet grid\n",
    "plt.show()"
   ]
  },
  {
   "cell_type": "code",
   "execution_count": null,
   "id": "c123e11f",
   "metadata": {
    "id": "c123e11f"
   },
   "outputs": [],
   "source": [
    "p = sns.FacetGrid(df, col=\"cut\")  # 1 column for each facet (value) of cut.\n",
    "plt.show()\n",
    "\n",
    "# matplotlib will squeeze the 5 plots into the orginal size."
   ]
  },
  {
   "cell_type": "code",
   "execution_count": null,
   "id": "17f1bf82",
   "metadata": {
    "id": "17f1bf82"
   },
   "outputs": [],
   "source": [
    "p = sns.FacetGrid(df, col=\"cut\", height=4, aspect=0.75)\n",
    "plt.show()\n",
    "# Aspect ratio of each facet, so that aspect * height gives the width of each facet."
   ]
  },
  {
   "cell_type": "code",
   "execution_count": null,
   "id": "fdb8a057",
   "metadata": {
    "id": "fdb8a057"
   },
   "outputs": [],
   "source": [
    "p = sns.FacetGrid(df, col=\"cut\", height=4, aspect=0.75, col_wrap=3)\n",
    "plt.show()\n",
    "# Aspect ratio of each facet, so that aspect * height gives the width of each facet."
   ]
  },
  {
   "cell_type": "markdown",
   "id": "2b6f9234",
   "metadata": {
    "id": "2b6f9234"
   },
   "source": []
  },
  {
   "cell_type": "code",
   "execution_count": null,
   "id": "904d1335",
   "metadata": {
    "id": "904d1335"
   },
   "outputs": [],
   "source": [
    "sns.set_style(\"white\")\n",
    "penguins = sns.load_dataset(\"penguins\")"
   ]
  },
  {
   "cell_type": "code",
   "execution_count": null,
   "id": "24d6bf33",
   "metadata": {
    "id": "24d6bf33"
   },
   "outputs": [],
   "source": [
    "p = sns.FacetGrid(penguins, col=\"island\")\n",
    "plt.show()"
   ]
  },
  {
   "cell_type": "code",
   "execution_count": null,
   "id": "8e1ff744",
   "metadata": {
    "id": "8e1ff744"
   },
   "outputs": [],
   "source": [
    "p = sns.FacetGrid(penguins, row=\"island\")\n",
    "plt.show()"
   ]
  },
  {
   "cell_type": "code",
   "execution_count": null,
   "id": "bb154758",
   "metadata": {
    "id": "bb154758"
   },
   "outputs": [],
   "source": [
    "type(p)"
   ]
  },
  {
   "cell_type": "markdown",
   "id": "f66f59fd",
   "metadata": {
    "id": "f66f59fd"
   },
   "source": [
    "## Managing the Facet Grid"
   ]
  },
  {
   "cell_type": "code",
   "execution_count": null,
   "id": "07b61c4c",
   "metadata": {
    "id": "07b61c4c"
   },
   "outputs": [],
   "source": [
    "penguins.head()"
   ]
  },
  {
   "cell_type": "code",
   "execution_count": null,
   "id": "5ee15a8d",
   "metadata": {
    "id": "5ee15a8d"
   },
   "outputs": [],
   "source": [
    "sns.displot(data=penguins, x=\"flipper_length_mm\", col=\"island\", kind=\"hist\")\n",
    "plt.show()"
   ]
  },
  {
   "cell_type": "markdown",
   "id": "f40ad787",
   "metadata": {
    "id": "f40ad787"
   },
   "source": [
    "## Using methods of FacetGrid\n",
    "\n",
    "These will be used when an axes level plot is used.\n",
    "\n",
    "Three steps:\n",
    "- set up the FacetGrid\n",
    "- identify the plot type using .map or .map_dataframe\n",
    "- customize"
   ]
  },
  {
   "cell_type": "markdown",
   "id": "d631ff8c",
   "metadata": {
    "id": "d631ff8c"
   },
   "source": [
    "### .map()\n",
    "1. Set up the facet grid (format the facets)\n",
    "2. Describe what should be plotted in the grids\n",
    "3. Add extras - labels, titles, etc.\n",
    "\n",
    "To draw a plot on every facet, pass a function and the name of one or more columns in the dataframe to FacetGrid.map()"
   ]
  },
  {
   "cell_type": "code",
   "execution_count": null,
   "id": "ae8f6bb0",
   "metadata": {
    "id": "ae8f6bb0"
   },
   "outputs": [],
   "source": [
    "p = sns.FacetGrid(penguins, col=\"island\")\n",
    "p.map(sns.histplot, \"flipper_length_mm\")\n",
    "# Requires positional arguements, not named (x = 'flipper_length_mm')\n",
    "plt.show()"
   ]
  },
  {
   "cell_type": "markdown",
   "id": "13108b73",
   "metadata": {
    "id": "13108b73"
   },
   "source": [
    "### .map_dataframe()"
   ]
  },
  {
   "cell_type": "code",
   "execution_count": null,
   "id": "c47cd2f9",
   "metadata": {
    "id": "c47cd2f9"
   },
   "outputs": [],
   "source": [
    "p = sns.FacetGrid(penguins, col=\"island\")\n",
    "p.map_dataframe(sns.histplot, x=\"flipper_length_mm\")\n",
    "# It is the x= that is different.  This is the named arguement\n",
    "plt.show()"
   ]
  },
  {
   "cell_type": "code",
   "execution_count": null,
   "id": "5c502454",
   "metadata": {
    "id": "5c502454"
   },
   "outputs": [],
   "source": [
    "p = sns.FacetGrid(penguins, col=\"island\", height=6, aspect=1)\n",
    "p.map_dataframe(sns.scatterplot, y=\"bill_length_mm\", x=\"bill_depth_mm\")\n",
    "plt.show()"
   ]
  },
  {
   "cell_type": "code",
   "execution_count": null,
   "id": "700624a6",
   "metadata": {
    "id": "700624a6"
   },
   "outputs": [],
   "source": []
  },
  {
   "cell_type": "markdown",
   "id": "99615b38",
   "metadata": {
    "id": "99615b38"
   },
   "source": [
    "### .set_axis_labels(),    .set_titles(),    sharey,    ylim"
   ]
  },
  {
   "cell_type": "code",
   "execution_count": null,
   "id": "f8c038f4",
   "metadata": {
    "id": "f8c038f4",
    "scrolled": true
   },
   "outputs": [],
   "source": [
    "p = sns.FacetGrid(penguins, col=\"island\", height=6, aspect=1)\n",
    "p.map_dataframe(sns.scatterplot, x=\"bill_depth_mm\", y=\"bill_length_mm\")\n",
    "\n",
    "p.set_axis_labels(\"BILL DEPTH (mm)\", \"BILL LENGTH (mm)\")\n",
    "# if the LABELS needs to be changed\n",
    "p.set_titles(col_template=\"{col_name} Island\")\n",
    "# if the TITLE needs to be changed\n",
    "plt.show()"
   ]
  },
  {
   "cell_type": "code",
   "execution_count": null,
   "id": "6f575f84",
   "metadata": {
    "id": "6f575f84"
   },
   "outputs": [],
   "source": [
    "p = sns.FacetGrid(penguins, col=\"island\", row=\"species\", height=4, aspect=1)\n",
    "p.map_dataframe(sns.scatterplot, x=\"bill_depth_mm\", y=\"bill_length_mm\")\n",
    "p.set_axis_labels(\"Bill Depth (mm)\", \"Bill Length (mm)\")\n",
    "p.set_titles(row_template=\"{row_name}\", col_template=\"{col_name} Island\")\n",
    "plt.show()"
   ]
  },
  {
   "cell_type": "markdown",
   "id": "d2ed30e8",
   "metadata": {
    "id": "d2ed30e8"
   },
   "source": [
    "- sharey: False means the y-axis will not be shared and each plot will get its own y-axis.\n",
    "- ylim: Sets a specified range for all y-axes shown"
   ]
  },
  {
   "cell_type": "markdown",
   "id": "ea3447a1",
   "metadata": {
    "id": "ea3447a1"
   },
   "source": [
    "#### sharey = False"
   ]
  },
  {
   "cell_type": "code",
   "execution_count": null,
   "id": "1c2b2b90",
   "metadata": {
    "id": "1c2b2b90"
   },
   "outputs": [],
   "source": [
    "p = sns.FacetGrid(penguins, col=\"island\", height=4, aspect=1, sharey=False)\n",
    "\n",
    "# p = sns.FacetGrid(penguins, col='island', height = 4, aspect =1, sharey=False, ylim=(20, 70))\n",
    "\n",
    "p.map_dataframe(sns.scatterplot, x=\"bill_depth_mm\", y=\"bill_length_mm\")\n",
    "p.set_axis_labels(\"BILL DEPTH (mm)\", \"BILL LENGTH (mm)\")\n",
    "p.set_titles(col_template=\"{col_name} Island\")\n",
    "plt.show()"
   ]
  },
  {
   "cell_type": "markdown",
   "id": "b671b34b",
   "metadata": {
    "id": "b671b34b"
   },
   "source": []
  },
  {
   "cell_type": "markdown",
   "id": "14da1e40",
   "metadata": {
    "id": "14da1e40"
   },
   "source": [
    "### hue & pallette"
   ]
  },
  {
   "cell_type": "code",
   "execution_count": null,
   "id": "870b0428",
   "metadata": {
    "id": "870b0428"
   },
   "outputs": [],
   "source": [
    "p = sns.FacetGrid(\n",
    "    penguins,\n",
    "    col=\"island\",\n",
    "    height=4,\n",
    "    aspect=1,\n",
    "    sharey=False,\n",
    "    ylim=(20, 70),\n",
    "    hue=\"species\",\n",
    ")\n",
    "p.map_dataframe(sns.scatterplot, x=\"bill_depth_mm\", y=\"bill_length_mm\")\n",
    "p.set_axis_labels(\"BILL DEPTH (mm)\", \"BILL LENGTH (mm)\")\n",
    "p.set_titles(col_template=\"{col_name} Island\")\n",
    "plt.show()"
   ]
  },
  {
   "cell_type": "code",
   "execution_count": null,
   "id": "2a8f1abd",
   "metadata": {
    "id": "2a8f1abd"
   },
   "outputs": [],
   "source": [
    "p = sns.FacetGrid(\n",
    "    penguins,\n",
    "    col=\"island\",\n",
    "    height=4,\n",
    "    aspect=1,\n",
    "    sharey=False,\n",
    "    ylim=(20, 70),\n",
    "    hue=\"species\",\n",
    "    palette=\"magma\",\n",
    "    # palette = ['grey','blue','red']\n",
    ")\n",
    "\n",
    "p.map_dataframe(sns.scatterplot, x=\"bill_depth_mm\", y=\"bill_length_mm\", marker=\"+\")\n",
    "p.set_axis_labels(\"BILL DEPTH (mm)\", \"BILL LENGTH (mm)\")\n",
    "p.set_titles(col_template=\"{col_name} Island\")\n",
    "plt.show()"
   ]
  },
  {
   "cell_type": "markdown",
   "id": "7966fd1a",
   "metadata": {
    "id": "7966fd1a"
   },
   "source": [
    "### Accomplish the same without defining the facet grid first"
   ]
  },
  {
   "cell_type": "code",
   "execution_count": null,
   "id": "651ec38e",
   "metadata": {
    "id": "651ec38e"
   },
   "outputs": [],
   "source": [
    "p = sns.relplot(\n",
    "    data=penguins,\n",
    "    x=\"bill_depth_mm\",\n",
    "    y=\"bill_length_mm\",\n",
    "    kind=\"scatter\",\n",
    "    col=\"island\",\n",
    "    height=4,\n",
    "    aspect=1,\n",
    "    hue=\"species\",\n",
    "    palette=\"magma\",\n",
    "    marker=\"+\",\n",
    "    size=\"body_mass_g\",\n",
    "    style=\"sex\",\n",
    "    facet_kws={\"sharey\": False, \"sharex\": True, \"ylim\": (20, 70)},\n",
    "    #   sharey=False, ylim=(20, 70), #palette = ['grey','blue','red']\n",
    ")\n",
    "\n",
    "p.map(plt.axhline, y=45, color=\".7\", dashes=(2, 1), zorder=0)\n",
    "p.set_axis_labels(\"Bill Depth (mm)\", \"Bill Length (mm)\")\n",
    "p.set_titles(row_template=\"{row_name}\", col_template=\"{col_name} Island\")\n",
    "plt.show()"
   ]
  },
  {
   "cell_type": "markdown",
   "id": "7e731509",
   "metadata": {
    "id": "7e731509"
   },
   "source": [
    "### Method Chaining"
   ]
  },
  {
   "cell_type": "code",
   "execution_count": null,
   "id": "57b7eb45",
   "metadata": {
    "id": "57b7eb45"
   },
   "outputs": [],
   "source": [
    "p = sns.relplot(\n",
    "    data=penguins,\n",
    "    x=\"bill_depth_mm\",\n",
    "    y=\"bill_length_mm\",\n",
    "    kind=\"scatter\",\n",
    "    col=\"island\",\n",
    "    height=4,\n",
    "    aspect=1,\n",
    "    hue=\"species\",\n",
    "    palette=\"magma\",\n",
    "    marker=\"+\",\n",
    "    size=\"body_mass_g\",\n",
    "    style=\"sex\",\n",
    "    facet_kws={\"sharey\": False, \"sharex\": True, \"ylim\": (20, 70)},\n",
    ")\n",
    "\n",
    "(\n",
    "    p.map(plt.axhline, y=45, color=\".7\", dashes=(2, 1), zorder=0)\n",
    "    .set_axis_labels(\"Bill Depth (mm)\", \"Bill Length (mm)\")\n",
    "    .set_titles(row_template=\"{row_name}\", col_template=\"{col_name} Island\")\n",
    ")\n",
    "plt.show()"
   ]
  },
  {
   "cell_type": "markdown",
   "id": "9b06b3cf",
   "metadata": {
    "id": "9b06b3cf"
   },
   "source": [
    "## Seaborn Exercise 2 - 10 minutes"
   ]
  },
  {
   "cell_type": "markdown",
   "id": "add53017",
   "metadata": {
    "id": "add53017"
   },
   "source": [
    "Using the flights info, create a visualization that plots - for each month - the number of passengers by year.  \n",
    "There should be one plot per month."
   ]
  },
  {
   "cell_type": "code",
   "execution_count": null,
   "id": "2e0a5d90",
   "metadata": {
    "id": "2e0a5d90"
   },
   "outputs": [],
   "source": [
    "flights.info()"
   ]
  },
  {
   "cell_type": "code",
   "execution_count": null,
   "id": "b91dc10c",
   "metadata": {
    "id": "b91dc10c"
   },
   "outputs": [],
   "source": [
    "flights.head(20)"
   ]
  },
  {
   "cell_type": "code",
   "execution_count": null,
   "id": "f5da085d",
   "metadata": {
    "id": "f5da085d"
   },
   "outputs": [],
   "source": [
    "flights.shape"
   ]
  },
  {
   "cell_type": "code",
   "execution_count": null,
   "id": "747e9854",
   "metadata": {
    "id": "747e9854"
   },
   "outputs": [],
   "source": [
    "# SNS Exercise 2 solution here."
   ]
  },
  {
   "cell_type": "markdown",
   "id": "37fcfb96",
   "metadata": {
    "id": "37fcfb96"
   },
   "source": [
    "## Seaborn Exercise 3 - 15 minutes\n",
    "\n",
    "The distplot below is quick 'one-liner' plot.\n",
    "Take a little more time to create an axes for each cut and the axes are one above the other.\n",
    "\n",
    "<img src=\"https://drive.google.com/uc?id=1SpS1UGerqF5snj0Y7p3lkxtOYSiAgdXz\" width=1200 />\n"
   ]
  },
  {
   "cell_type": "code",
   "execution_count": null,
   "id": "3a55ab04",
   "metadata": {
    "id": "3a55ab04"
   },
   "outputs": [],
   "source": [
    "# This is the chart on the left with diamond data.\n",
    "sns.displot(data=df, x=\"price\", hue=\"cut\", kind=\"kde\", rug=True)\n",
    "plt.show()"
   ]
  },
  {
   "cell_type": "code",
   "execution_count": null,
   "id": "34851a4d",
   "metadata": {
    "id": "34851a4d"
   },
   "outputs": [],
   "source": [
    "# Place Exercise 3 solution here.\n",
    "\n",
    "# https://towardsdatascience.com/sorry-but-sns-distplot-just-isnt-good-enough-this-is-though-ef2ddbf28078\n",
    "df = sns.load_dataset(\"diamonds\")"
   ]
  },
  {
   "cell_type": "markdown",
   "id": "65e9df6b",
   "metadata": {
    "id": "65e9df6b"
   },
   "source": [
    "# Multiple Views"
   ]
  },
  {
   "cell_type": "markdown",
   "id": "913ba412",
   "metadata": {
    "id": "913ba412"
   },
   "source": [
    "## Jointplot"
   ]
  },
  {
   "cell_type": "code",
   "execution_count": null,
   "id": "9dd997be",
   "metadata": {
    "id": "9dd997be"
   },
   "outputs": [],
   "source": [
    "sns.set_style(\"ticks\")\n",
    "sns.jointplot(\n",
    "    data=penguins, x=\"flipper_length_mm\", y=\"bill_length_mm\", hue=\"species\", height=8\n",
    ")\n",
    "plt.show()"
   ]
  },
  {
   "cell_type": "code",
   "execution_count": null,
   "id": "800d5503",
   "metadata": {
    "id": "800d5503"
   },
   "outputs": [],
   "source": [
    "sns.set_style(\"ticks\")\n",
    "sns.jointplot(\n",
    "    data=penguins, x=\"flipper_length_mm\", y=\"bill_length_mm\", hue=\"species\", height=8\n",
    ")\n",
    "plt.show()"
   ]
  },
  {
   "cell_type": "markdown",
   "id": "5af4621a",
   "metadata": {
    "id": "5af4621a"
   },
   "source": [
    "## Pairplot"
   ]
  },
  {
   "cell_type": "code",
   "execution_count": null,
   "id": "b40656e4",
   "metadata": {
    "id": "b40656e4"
   },
   "outputs": [],
   "source": [
    "sns.pairplot(data=df, hue=\"cut\")\n",
    "plt.show()"
   ]
  },
  {
   "cell_type": "code",
   "execution_count": null,
   "id": "47122612-0d5c-4a2f-8e55-31375a2e7e64",
   "metadata": {
    "id": "47122612-0d5c-4a2f-8e55-31375a2e7e64"
   },
   "outputs": [],
   "source": [
    "df.head()"
   ]
  },
  {
   "cell_type": "code",
   "execution_count": null,
   "id": "e47697fe",
   "metadata": {
    "id": "e47697fe"
   },
   "outputs": [],
   "source": [
    "numeric_data = df.select_dtypes(include=\"number\")\n",
    "xyz = numeric_data.corr()\n",
    "xyz"
   ]
  },
  {
   "cell_type": "code",
   "execution_count": null,
   "id": "2266494c",
   "metadata": {
    "id": "2266494c"
   },
   "outputs": [],
   "source": [
    "sns.heatmap(xyz, annot=False)\n",
    "plt.show()"
   ]
  },
  {
   "cell_type": "code",
   "execution_count": null,
   "id": "54ff7958",
   "metadata": {
    "id": "54ff7958"
   },
   "outputs": [],
   "source": [
    "# Calculate correlations\n",
    "# corr = df.corr()\n",
    "plt.figure(figsize=(12, 8))\n",
    "plt.title(\"Quantitative Variables Correlation\")\n",
    "\n",
    "# Heatmap\n",
    "sns.heatmap(xyz, cmap=\"plasma\", annot=True)\n",
    "plt.show()"
   ]
  },
  {
   "cell_type": "code",
   "execution_count": null,
   "id": "dcf298db",
   "metadata": {
    "id": "dcf298db"
   },
   "outputs": [],
   "source": [
    "plt.figure(figsize=(12, 8))\n",
    "# corr = df.corr()\n",
    "ax = sns.heatmap(\n",
    "    xyz,\n",
    "    vmin=-1,\n",
    "    vmax=1,\n",
    "    center=0,\n",
    "    cmap=sns.diverging_palette(20, 220, n=200),\n",
    "    square=True,\n",
    "    annot=True,\n",
    "    annot_kws={\"size\": 10},\n",
    ")\n",
    "ax.set_xticklabels(ax.get_xticklabels(), rotation=45, horizontalalignment=\"right\")\n",
    "plt.show()"
   ]
  },
  {
   "cell_type": "code",
   "execution_count": null,
   "id": "2634da4a",
   "metadata": {
    "id": "2634da4a"
   },
   "outputs": [],
   "source": [
    "plt.figure(figsize=(12, 8))\n",
    "# corr = df.corr()\n",
    "ax = sns.heatmap(\n",
    "    xyz,\n",
    "    vmin=-1,\n",
    "    vmax=1,\n",
    "    center=0,\n",
    "    cmap=sns.diverging_palette(20, 220, n=200),\n",
    "    square=True,\n",
    "    annot=False,\n",
    "    annot_kws={\"size\": 20},\n",
    ")\n",
    "ax.set_xticklabels(ax.get_xticklabels(), rotation=45, horizontalalignment=\"right\")\n",
    "plt.show()"
   ]
  },
  {
   "cell_type": "markdown",
   "id": "0109aaab",
   "metadata": {
    "id": "0109aaab"
   },
   "source": []
  }
 ],
 "metadata": {
  "colab": {
   "provenance": []
  },
  "kernelspec": {
   "display_name": "Python 3",
   "language": "python",
   "name": "python3"
  },
  "language_info": {
   "codemirror_mode": {
    "name": "ipython",
    "version": 3
   },
   "file_extension": ".py",
   "mimetype": "text/x-python",
   "name": "python",
   "nbconvert_exporter": "python",
   "pygments_lexer": "ipython3",
   "version": "3.12.4"
  },
  "toc": {
   "base_numbering": 1,
   "nav_menu": {},
   "number_sections": false,
   "sideBar": true,
   "skip_h1_title": false,
   "title_cell": "Table of Contents: Seaborn ",
   "title_sidebar": "",
   "toc_cell": false,
   "toc_position": {},
   "toc_section_display": true,
   "toc_window_display": false
  },
  "varInspector": {
   "cols": {
    "lenName": 16,
    "lenType": 16,
    "lenVar": 40
   },
   "kernels_config": {
    "python": {
     "delete_cmd_postfix": "",
     "delete_cmd_prefix": "del ",
     "library": "var_list.py",
     "varRefreshCmd": "print(var_dic_list())"
    },
    "r": {
     "delete_cmd_postfix": ") ",
     "delete_cmd_prefix": "rm(",
     "library": "var_list.r",
     "varRefreshCmd": "cat(var_dic_list()) "
    }
   },
   "types_to_exclude": [
    "module",
    "function",
    "builtin_function_or_method",
    "instance",
    "_Feature"
   ],
   "window_display": false
  }
 },
 "nbformat": 4,
 "nbformat_minor": 5
}
